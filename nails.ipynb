{
 "cells": [
  {
   "cell_type": "code",
   "execution_count": 1,
   "metadata": {},
   "outputs": [
    {
     "name": "stdout",
     "output_type": "stream",
     "text": [
      "Found 928 images belonging to 3 classes.\n",
      "Found 231 images belonging to 3 classes.\n",
      "Downloading data from https://storage.googleapis.com/tensorflow/keras-applications/mobilenet_v2/mobilenet_v2_weights_tf_dim_ordering_tf_kernels_1.0_128_no_top.h5\n",
      "\u001b[1m9406464/9406464\u001b[0m \u001b[32m━━━━━━━━━━━━━━━━━━━━\u001b[0m\u001b[37m\u001b[0m \u001b[1m10s\u001b[0m 1us/step\n"
     ]
    },
    {
     "name": "stderr",
     "output_type": "stream",
     "text": [
      "c:\\Users\\ronit\\anaconda3\\Lib\\site-packages\\keras\\src\\trainers\\data_adapters\\py_dataset_adapter.py:121: UserWarning: Your `PyDataset` class should call `super().__init__(**kwargs)` in its constructor. `**kwargs` can include `workers`, `use_multiprocessing`, `max_queue_size`. Do not pass these arguments to `fit()`, as they will be ignored.\n",
      "  self._warn_if_super_not_called()\n"
     ]
    },
    {
     "name": "stdout",
     "output_type": "stream",
     "text": [
      "Epoch 1/20\n",
      "\u001b[1m29/29\u001b[0m \u001b[32m━━━━━━━━━━━━━━━━━━━━\u001b[0m\u001b[37m\u001b[0m \u001b[1m0s\u001b[0m 1s/step - accuracy: 0.3610 - loss: 1.6642 "
     ]
    },
    {
     "name": "stderr",
     "output_type": "stream",
     "text": [
      "c:\\Users\\ronit\\anaconda3\\Lib\\site-packages\\keras\\src\\trainers\\data_adapters\\py_dataset_adapter.py:121: UserWarning: Your `PyDataset` class should call `super().__init__(**kwargs)` in its constructor. `**kwargs` can include `workers`, `use_multiprocessing`, `max_queue_size`. Do not pass these arguments to `fit()`, as they will be ignored.\n",
      "  self._warn_if_super_not_called()\n"
     ]
    },
    {
     "name": "stdout",
     "output_type": "stream",
     "text": [
      "\u001b[1m29/29\u001b[0m \u001b[32m━━━━━━━━━━━━━━━━━━━━\u001b[0m\u001b[37m\u001b[0m \u001b[1m50s\u001b[0m 2s/step - accuracy: 0.3630 - loss: 1.6575 - val_accuracy: 0.6277 - val_loss: 0.8927\n",
      "Epoch 2/20\n",
      "\u001b[1m29/29\u001b[0m \u001b[32m━━━━━━━━━━━━━━━━━━━━\u001b[0m\u001b[37m\u001b[0m \u001b[1m9s\u001b[0m 305ms/step - accuracy: 0.5801 - loss: 0.9943 - val_accuracy: 0.6753 - val_loss: 0.7619\n",
      "Epoch 3/20\n",
      "\u001b[1m29/29\u001b[0m \u001b[32m━━━━━━━━━━━━━━━━━━━━\u001b[0m\u001b[37m\u001b[0m \u001b[1m9s\u001b[0m 304ms/step - accuracy: 0.6963 - loss: 0.7476 - val_accuracy: 0.6840 - val_loss: 0.7652\n",
      "Epoch 4/20\n",
      "\u001b[1m29/29\u001b[0m \u001b[32m━━━━━━━━━━━━━━━━━━━━\u001b[0m\u001b[37m\u001b[0m \u001b[1m9s\u001b[0m 302ms/step - accuracy: 0.7217 - loss: 0.6904 - val_accuracy: 0.6883 - val_loss: 0.6790\n",
      "Epoch 5/20\n",
      "\u001b[1m29/29\u001b[0m \u001b[32m━━━━━━━━━━━━━━━━━━━━\u001b[0m\u001b[37m\u001b[0m \u001b[1m9s\u001b[0m 323ms/step - accuracy: 0.7920 - loss: 0.5442 - val_accuracy: 0.7186 - val_loss: 0.6397\n",
      "Epoch 6/20\n",
      "\u001b[1m29/29\u001b[0m \u001b[32m━━━━━━━━━━━━━━━━━━━━\u001b[0m\u001b[37m\u001b[0m \u001b[1m10s\u001b[0m 331ms/step - accuracy: 0.7551 - loss: 0.5568 - val_accuracy: 0.7316 - val_loss: 0.6466\n",
      "Epoch 7/20\n",
      "\u001b[1m29/29\u001b[0m \u001b[32m━━━━━━━━━━━━━━━━━━━━\u001b[0m\u001b[37m\u001b[0m \u001b[1m10s\u001b[0m 348ms/step - accuracy: 0.8143 - loss: 0.4812 - val_accuracy: 0.7316 - val_loss: 0.6414\n",
      "Epoch 8/20\n",
      "\u001b[1m29/29\u001b[0m \u001b[32m━━━━━━━━━━━━━━━━━━━━\u001b[0m\u001b[37m\u001b[0m \u001b[1m15s\u001b[0m 513ms/step - accuracy: 0.8313 - loss: 0.4063 - val_accuracy: 0.7229 - val_loss: 0.6236\n",
      "Epoch 9/20\n",
      "\u001b[1m29/29\u001b[0m \u001b[32m━━━━━━━━━━━━━━━━━━━━\u001b[0m\u001b[37m\u001b[0m \u001b[1m47s\u001b[0m 2s/step - accuracy: 0.8316 - loss: 0.4412 - val_accuracy: 0.7532 - val_loss: 0.5684\n",
      "Epoch 10/20\n",
      "\u001b[1m29/29\u001b[0m \u001b[32m━━━━━━━━━━━━━━━━━━━━\u001b[0m\u001b[37m\u001b[0m \u001b[1m19s\u001b[0m 665ms/step - accuracy: 0.8400 - loss: 0.4299 - val_accuracy: 0.7316 - val_loss: 0.5648\n",
      "Epoch 11/20\n",
      "\u001b[1m29/29\u001b[0m \u001b[32m━━━━━━━━━━━━━━━━━━━━\u001b[0m\u001b[37m\u001b[0m \u001b[1m10s\u001b[0m 331ms/step - accuracy: 0.8424 - loss: 0.3868 - val_accuracy: 0.7316 - val_loss: 0.6296\n",
      "Epoch 12/20\n",
      "\u001b[1m29/29\u001b[0m \u001b[32m━━━━━━━━━━━━━━━━━━━━\u001b[0m\u001b[37m\u001b[0m \u001b[1m9s\u001b[0m 321ms/step - accuracy: 0.8360 - loss: 0.4119 - val_accuracy: 0.7749 - val_loss: 0.5497\n",
      "Epoch 13/20\n",
      "\u001b[1m29/29\u001b[0m \u001b[32m━━━━━━━━━━━━━━━━━━━━\u001b[0m\u001b[37m\u001b[0m \u001b[1m9s\u001b[0m 323ms/step - accuracy: 0.8639 - loss: 0.3754 - val_accuracy: 0.8009 - val_loss: 0.4746\n",
      "Epoch 14/20\n",
      "\u001b[1m29/29\u001b[0m \u001b[32m━━━━━━━━━━━━━━━━━━━━\u001b[0m\u001b[37m\u001b[0m \u001b[1m9s\u001b[0m 325ms/step - accuracy: 0.8597 - loss: 0.3590 - val_accuracy: 0.7316 - val_loss: 0.6158\n",
      "Epoch 15/20\n",
      "\u001b[1m29/29\u001b[0m \u001b[32m━━━━━━━━━━━━━━━━━━━━\u001b[0m\u001b[37m\u001b[0m \u001b[1m10s\u001b[0m 338ms/step - accuracy: 0.8444 - loss: 0.3886 - val_accuracy: 0.7965 - val_loss: 0.5475\n",
      "Epoch 16/20\n",
      "\u001b[1m29/29\u001b[0m \u001b[32m━━━━━━━━━━━━━━━━━━━━\u001b[0m\u001b[37m\u001b[0m \u001b[1m9s\u001b[0m 324ms/step - accuracy: 0.8578 - loss: 0.3158 - val_accuracy: 0.7576 - val_loss: 0.5968\n",
      "Epoch 17/20\n",
      "\u001b[1m29/29\u001b[0m \u001b[32m━━━━━━━━━━━━━━━━━━━━\u001b[0m\u001b[37m\u001b[0m \u001b[1m9s\u001b[0m 318ms/step - accuracy: 0.8579 - loss: 0.3608 - val_accuracy: 0.7532 - val_loss: 0.5483\n",
      "Epoch 18/20\n",
      "\u001b[1m29/29\u001b[0m \u001b[32m━━━━━━━━━━━━━━━━━━━━\u001b[0m\u001b[37m\u001b[0m \u001b[1m10s\u001b[0m 338ms/step - accuracy: 0.8680 - loss: 0.3097 - val_accuracy: 0.8052 - val_loss: 0.5156\n"
     ]
    },
    {
     "name": "stderr",
     "output_type": "stream",
     "text": [
      "WARNING:absl:You are saving your model as an HDF5 file via `model.save()` or `keras.saving.save_model(model)`. This file format is considered legacy. We recommend using instead the native Keras format, e.g. `model.save('my_model.keras')` or `keras.saving.save_model(model, 'my_model.keras')`. \n"
     ]
    },
    {
     "name": "stdout",
     "output_type": "stream",
     "text": [
      "✅ Model saved successfully!\n",
      "\u001b[1m10/10\u001b[0m \u001b[32m━━━━━━━━━━━━━━━━━━━━\u001b[0m\u001b[37m\u001b[0m \u001b[1m3s\u001b[0m 180ms/step\n",
      "               precision    recall  f1-score   support\n",
      "\n",
      "      Healthy       0.96      0.74      0.83        61\n",
      "Onychomycosis       0.72      0.95      0.82       145\n",
      "    Psoriasis       0.84      0.53      0.65        91\n",
      "\n",
      "     accuracy                           0.78       297\n",
      "    macro avg       0.84      0.74      0.77       297\n",
      " weighted avg       0.80      0.78      0.77       297\n",
      "\n",
      "✅ Test Accuracy: 0.7778\n",
      "🩺 Predicted Condition: Onychomycosis\n"
     ]
    }
   ],
   "source": [
    "import tensorflow as tf\n",
    "import numpy as np\n",
    "import os\n",
    "from tensorflow.keras.preprocessing.image import ImageDataGenerator\n",
    "from tensorflow.keras import layers, models\n",
    "from tensorflow.keras.callbacks import EarlyStopping\n",
    "from tensorflow.keras.applications import MobileNetV2\n",
    "\n",
    "# ---------------- 1️⃣ Data Preprocessing ----------------\n",
    "# Define data augmentation techniques\n",
    "datagen = ImageDataGenerator(\n",
    "    rescale=1./255,  \n",
    "    rotation_range=30,  \n",
    "    width_shift_range=0.2,  \n",
    "    height_shift_range=0.2,  \n",
    "    shear_range=0.2,  \n",
    "    zoom_range=0.2,  \n",
    "    horizontal_flip=True,  \n",
    "    fill_mode='nearest',\n",
    "    validation_split=0.2  # 80% Train, 20% Validation\n",
    ")\n",
    "\n",
    "# Load dataset from directory\n",
    "train_data = datagen.flow_from_directory(\n",
    "    \"nail_dataset/train\",\n",
    "    target_size=(128, 128),\n",
    "    batch_size=32,\n",
    "    class_mode=\"categorical\",\n",
    "    subset=\"training\"\n",
    ")\n",
    "\n",
    "val_data = datagen.flow_from_directory(\n",
    "    \"nail_dataset/train\",\n",
    "    target_size=(128, 128),\n",
    "    batch_size=32,\n",
    "    class_mode=\"categorical\",\n",
    "    subset=\"validation\"\n",
    ")\n",
    "\n",
    "# ---------------- 2️⃣ Use MobileNetV2 (Pretrained Model) ----------------\n",
    "base_model = MobileNetV2(input_shape=(128, 128, 3), include_top=False, weights='imagenet')\n",
    "base_model.trainable = False  # Freeze the base model\n",
    "\n",
    "# Define model\n",
    "model = models.Sequential([\n",
    "    base_model,\n",
    "    layers.GlobalAveragePooling2D(),\n",
    "    layers.BatchNormalization(),\n",
    "    layers.Dense(128, activation='relu'),\n",
    "    layers.Dropout(0.3),\n",
    "    layers.Dense(3, activation='softmax')  # 3 classes: Healthy, Onychomycosis, Psoriasis\n",
    "])\n",
    "\n",
    "# Compile the model\n",
    "model.compile(optimizer=tf.keras.optimizers.Adam(learning_rate=0.0001),\n",
    "              loss=\"categorical_crossentropy\",\n",
    "              metrics=[\"accuracy\"])\n",
    "\n",
    "# ---------------- 3️⃣ Train Model with Early Stopping ----------------\n",
    "early_stop = EarlyStopping(monitor='val_loss', patience=5, restore_best_weights=True)\n",
    "\n",
    "history = model.fit(\n",
    "    train_data,\n",
    "    validation_data=val_data,\n",
    "    epochs=20,\n",
    "    callbacks=[early_stop]\n",
    ")\n",
    "\n",
    "# ---------------- 4️⃣ Save the Trained Model ----------------\n",
    "model.save(\"nail_disease_model.h5\")\n",
    "print(\"✅ Model saved successfully!\")\n",
    "\n",
    "# ---------------- 5️⃣ Evaluate on Test Data ----------------\n",
    "def load_test_data(test_folder):\n",
    "    images = []\n",
    "    labels = []\n",
    "    class_names = [\"healthy\", \"onychomycosis\", \"psoriasis\"]\n",
    "    \n",
    "    for idx, class_name in enumerate(class_names):\n",
    "        class_folder = os.path.join(test_folder, class_name)\n",
    "        for img_name in os.listdir(class_folder):\n",
    "            if img_name.endswith(\".jpg\") or img_name.endswith(\".png\"):\n",
    "                img_path = os.path.join(class_folder, img_name)\n",
    "                img = tf.keras.preprocessing.image.load_img(img_path, target_size=(128, 128))\n",
    "                img_array = tf.keras.preprocessing.image.img_to_array(img) / 255.0\n",
    "                images.append(img_array)\n",
    "                labels.append(idx)\n",
    "    \n",
    "    return np.array(images), np.array(labels)\n",
    "\n",
    "X_test, y_test = load_test_data(\"nail_dataset/test\")\n",
    "y_pred = np.argmax(model.predict(X_test), axis=1)\n",
    "\n",
    "from sklearn.metrics import classification_report, accuracy_score\n",
    "print(classification_report(y_test, y_pred, target_names=[\"Healthy\", \"Onychomycosis\", \"Psoriasis\"]))\n",
    "print(f\"✅ Test Accuracy: {accuracy_score(y_test, y_pred):.4f}\")\n",
    "\n",
    "# ---------------- 6️⃣ Predict on a New Image ----------------\n",
    "def predict_nail_condition(image_path):\n",
    "    img = tf.keras.preprocessing.image.load_img(image_path, target_size=(128, 128))\n",
    "    img_array = tf.keras.preprocessing.image.img_to_array(img) / 255.0\n",
    "    img_array = np.expand_dims(img_array, axis=0)  # Add batch dimension\n",
    "    \n",
    "    prediction = model.predict(img_array, verbose=0)\n",
    "    class_names = [\"Healthy\", \"Onychomycosis\", \"Psoriasis\"]\n",
    "    return class_names[np.argmax(prediction)]\n",
    "\n",
    "# Example usage\n",
    "test_image_path = \"nail_dataset/test/onychomycosis/7.jpg\"\n",
    "predicted_label = predict_nail_condition(test_image_path)\n",
    "print(f\"🩺 Predicted Condition: {predicted_label}\")\n"
   ]
  },
  {
   "cell_type": "code",
   "execution_count": 9,
   "metadata": {},
   "outputs": [
    {
     "name": "stdout",
     "output_type": "stream",
     "text": [
      "🩺 Predicted Condition: Healthy\n"
     ]
    }
   ],
   "source": [
    "# Example usage\n",
    "test_image_path = \"nail_dataset/test/healthy/56.jpg\"\n",
    "predicted_label = predict_nail_condition(test_image_path)\n",
    "print(f\"🩺 Predicted Condition: {predicted_label}\")\n"
   ]
  },
  {
   "cell_type": "code",
   "execution_count": null,
   "metadata": {},
   "outputs": [],
   "source": []
  }
 ],
 "metadata": {
  "kernelspec": {
   "display_name": "base",
   "language": "python",
   "name": "python3"
  },
  "language_info": {
   "codemirror_mode": {
    "name": "ipython",
    "version": 3
   },
   "file_extension": ".py",
   "mimetype": "text/x-python",
   "name": "python",
   "nbconvert_exporter": "python",
   "pygments_lexer": "ipython3",
   "version": "3.12.4"
  }
 },
 "nbformat": 4,
 "nbformat_minor": 2
}
